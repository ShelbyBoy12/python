{
 "cells": [
  {
   "cell_type": "code",
   "execution_count": 15,
   "metadata": {},
   "outputs": [
    {
     "name": "stdout",
     "output_type": "stream",
     "text": [
      "837799 525\n"
     ]
    }
   ],
   "source": [
    "m = 0   # max \n",
    "i = 13  # intital\n",
    "while i < 1000000 : # iterating till million\n",
    "    n = i  # storing number in n\n",
    "    c = 1  # intital count 1, as we are not counting 1\n",
    "    while n > 1 : # till the number is 1\n",
    "        if n%2 == 0 :  # if even then do the following\n",
    "            n = n / 2\n",
    "            \n",
    "        else :   # if odd do the following\n",
    "            n = 3*n + 1\n",
    "        c += 1  # incrementing the count variable\n",
    "            \n",
    "    if c > m : # checking if the count is greater than max\n",
    "        m = c # then changing the max\n",
    "        e = i # storing the max element\n",
    "    i += 1  # incrementing the elements\n",
    "print(e,m)  # printing"
   ]
  },
  {
   "cell_type": "code",
   "execution_count": null,
   "metadata": {},
   "outputs": [],
   "source": []
  }
 ],
 "metadata": {
  "kernelspec": {
   "display_name": "Python 3",
   "language": "python",
   "name": "python3"
  },
  "language_info": {
   "codemirror_mode": {
    "name": "ipython",
    "version": 3
   },
   "file_extension": ".py",
   "mimetype": "text/x-python",
   "name": "python",
   "nbconvert_exporter": "python",
   "pygments_lexer": "ipython3",
   "version": "3.8.5"
  }
 },
 "nbformat": 4,
 "nbformat_minor": 4
}
