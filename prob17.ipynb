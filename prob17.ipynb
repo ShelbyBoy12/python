{
 "cells": [
  {
   "cell_type": "code",
   "execution_count": 3,
   "metadata": {},
   "outputs": [
    {
     "name": "stdout",
     "output_type": "stream",
     "text": [
      "21124\n",
      "0.0019948482513427734\n"
     ]
    }
   ],
   "source": [
    "import time as time\n",
    "start = time.time()\n",
    "\n",
    "dic = {n:0 for n in range(0,1001)}\n",
    "\n",
    "dic[0] = 0\n",
    "dic[1] = 3\n",
    "dic[2] = 3\n",
    "dic[3] = 5\n",
    "dic[4] = 4\n",
    "dic[5] = 4\n",
    "dic[6] = 3\n",
    "dic[7] = 5\n",
    "dic[8] = 5\n",
    "dic[9] = 4\n",
    "dic[10] = 3\n",
    "dic[11] = 6\n",
    "dic[12] = 6\n",
    "dic[13] = 8\n",
    "dic[14] = 8\n",
    "dic[15] = 7\n",
    "dic[16] = 7\n",
    "dic[17] = 9\n",
    "dic[18] = 8\n",
    "dic[19] = 8\n",
    "dic[20] = 6\n",
    "dic[30] = 6\n",
    "dic[40] = 5\n",
    "dic[50] = 5\n",
    "dic[60] = 5\n",
    "dic[70] = 7\n",
    "dic[80] = 6\n",
    "dic[90] = 6\n",
    "\n",
    "for i in range(21,100) : # for 21 to 99\n",
    "    tens = int(i/10)*10  \n",
    "    ones = i - tens\n",
    "    dic[i] = dic[tens]+dic[ones]\n",
    "    \n",
    "for i in range(100,1000) : # for 100 to 999\n",
    "    hundreds = int(i/100)\n",
    "    tens_ones = i - hundreds*100\n",
    "    \n",
    "    if tens_ones == 0 :\n",
    "        dic[i] = dic[hundreds] + 7  # eg. two hundred\n",
    "    else :\n",
    "        dic[i] = dic[hundreds] + 10 + dic[tens_ones] # two hundred twenty two\n",
    "dic[1000] = 11 #thousand\n",
    "print(sum(dic.values()))\n",
    "end = time.time()\n",
    "print(end-start)"
   ]
  },
  {
   "cell_type": "code",
   "execution_count": null,
   "metadata": {},
   "outputs": [],
   "source": []
  }
 ],
 "metadata": {
  "kernelspec": {
   "display_name": "Python 3",
   "language": "python",
   "name": "python3"
  },
  "language_info": {
   "codemirror_mode": {
    "name": "ipython",
    "version": 3
   },
   "file_extension": ".py",
   "mimetype": "text/x-python",
   "name": "python",
   "nbconvert_exporter": "python",
   "pygments_lexer": "ipython3",
   "version": "3.8.5"
  }
 },
 "nbformat": 4,
 "nbformat_minor": 4
}
