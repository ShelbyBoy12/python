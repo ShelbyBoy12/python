{
 "cells": [
  {
   "cell_type": "code",
   "execution_count": 1,
   "metadata": {},
   "outputs": [],
   "source": [
    "def divisor(n) :\n",
    "    c = 0  # its easy to find divisors till the sqrt of the number. Shortens the time complexity\n",
    "    for i in range(1,n+1) :\n",
    "        if n % i == 0 :\n",
    "            c = c + 1\n",
    "    return c"
   ]
  },
  {
   "cell_type": "code",
   "execution_count": 16,
   "metadata": {},
   "outputs": [
    {
     "data": {
      "text/plain": [
       "28"
      ]
     },
     "execution_count": 16,
     "metadata": {},
     "output_type": "execute_result"
    }
   ],
   "source": [
    "def triangle(n) :\n",
    "    return sum(i for i in range(1,n+1))\n",
    "triangle(7)"
   ]
  },
  {
   "cell_type": "code",
   "execution_count": 14,
   "metadata": {},
   "outputs": [
    {
     "name": "stdout",
     "output_type": "stream",
     "text": [
      "76576500\n",
      "time taken : 29968 milliseconds\n"
     ]
    }
   ],
   "source": [
    "import time\n",
    "\n",
    "start = int(round(time.time() * 1000)) # Starting the clock\n",
    "\n",
    "j = 0 # jth traingle number\n",
    "n = 0 # sum of all natural numbers from j = 1 to j = j\n",
    "numberofDivisors = 0 # number of divisors of n\n",
    "\n",
    "while numberofDivisors <= 500 :\n",
    "    numberofDivisors = 0 # each time we need to make it zero\n",
    "    j += 1 # incrementing each time \n",
    "    n = triangle(j) # finding the triangle number\n",
    "    \n",
    "    i = 1\n",
    "    while i <= n**0.5 : # till the square root we need to find the divisors\n",
    "        if n % i == 0 :\n",
    "            numberofDivisors += 1\n",
    "        i += 1\n",
    "    numberofDivisors *= 2 # multiplying by 2 to get the total number of divisors \n",
    "finish = int(round(time.time() *1000)) # stopping the clock\n",
    "\n",
    "print(n)\n",
    "print(\"time taken : \" + str(finish-start) + ' milliseconds') # total time taken\n",
    "    "
   ]
  },
  {
   "cell_type": "code",
   "execution_count": null,
   "metadata": {},
   "outputs": [],
   "source": []
  }
 ],
 "metadata": {
  "kernelspec": {
   "display_name": "Python 3",
   "language": "python",
   "name": "python3"
  },
  "language_info": {
   "codemirror_mode": {
    "name": "ipython",
    "version": 3
   },
   "file_extension": ".py",
   "mimetype": "text/x-python",
   "name": "python",
   "nbconvert_exporter": "python",
   "pygments_lexer": "ipython3",
   "version": "3.8.5"
  }
 },
 "nbformat": 4,
 "nbformat_minor": 4
}
