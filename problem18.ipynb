{
 "cells": [
  {
   "cell_type": "code",
   "execution_count": 15,
   "metadata": {},
   "outputs": [
    {
     "name": "stdout",
     "output_type": "stream",
     "text": [
      "1074 105\n",
      "0.0\n"
     ]
    }
   ],
   "source": [
    "import time\n",
    "\n",
    "start = time.time()\n",
    "\n",
    "# storing the pyramid as a string\n",
    "number = '''75\n",
    "95 64\n",
    "17 47 82\n",
    "18 35 87 10\n",
    "20 04 82 47 65\n",
    "19 01 23 75 03 34\n",
    "88 02 77 73 07 63 67\n",
    "99 65 04 28 06 16 70 92\n",
    "41 41 26 56 83 40 80 70 33\n",
    "41 48 72 33 47 32 37 16 94 29\n",
    "53 71 44 65 25 43 91 52 97 51 14\n",
    "70 11 33 28 77 73 17 78 39 68 17 57\n",
    "91 71 52 38 17 14 91 43 58 50 27 29 48\n",
    "63 66 04 68 89 53 67 30 73 16 69 87 40 31\n",
    "04 62 98 27 23 09 70 98 73 93 38 53 60 04 23'''\n",
    "\n",
    "number = number.strip().split('\\n') # making it a list \n",
    "\n",
    "for i in range(1,len(number)) :  # converting str to integer list\n",
    "    number[i] = number[i].strip().split(' ')\n",
    "    number[i] = [int(x) for x in number[i]]\n",
    "\n",
    "number[0] = [75] # as we had left the first element\n",
    "\n",
    "counter = 0 # counting the number of iterations\n",
    "\n",
    "# Applying the bottom-up approach dp to the problem\n",
    "for i in range(len(number)-2,-1,-1):\n",
    "    for j in range(len(number[i])):\n",
    "        number[i][j] = number[i][j] + max(number[i+1][j], number[i+1][j+1])\n",
    "        counter += 1\n",
    "    number.pop()\n",
    "\n",
    "print(number[0][0], counter)\n",
    "\n",
    "end = time.time()\n",
    "print(end-start)"
   ]
  },
  {
   "cell_type": "code",
   "execution_count": null,
   "metadata": {},
   "outputs": [],
   "source": []
  }
 ],
 "metadata": {
  "kernelspec": {
   "display_name": "Python 3",
   "language": "python",
   "name": "python3"
  },
  "language_info": {
   "codemirror_mode": {
    "name": "ipython",
    "version": 3
   },
   "file_extension": ".py",
   "mimetype": "text/x-python",
   "name": "python",
   "nbconvert_exporter": "python",
   "pygments_lexer": "ipython3",
   "version": "3.8.5"
  }
 },
 "nbformat": 4,
 "nbformat_minor": 4
}
