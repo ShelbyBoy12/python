{
 "cells": [
  {
   "cell_type": "code",
   "execution_count": 21,
   "metadata": {},
   "outputs": [
    {
     "name": "stdout",
     "output_type": "stream",
     "text": [
      "{1184, 6368, 5564, 5020, 2924, 284, 6232, 1210, 220, 2620}\n"
     ]
    }
   ],
   "source": [
    "def d(n) :\n",
    "    s = 0\n",
    "    for i in range(1,n) :\n",
    "        if n%i == 0 :\n",
    "            s += i\n",
    "    return s\n",
    "l = []\n",
    "i = 1\n",
    "while i < 10000 :\n",
    "    a = d(i)\n",
    "    b = d(a)\n",
    "    if b == i and a != i:\n",
    "        l.append(i)\n",
    "        l.append(a)\n",
    "    i += 1\n",
    "print(set(l))\n"
   ]
  },
  {
   "cell_type": "code",
   "execution_count": 22,
   "metadata": {},
   "outputs": [],
   "source": [
    "l = set(l)"
   ]
  },
  {
   "cell_type": "code",
   "execution_count": 23,
   "metadata": {},
   "outputs": [
    {
     "name": "stdout",
     "output_type": "stream",
     "text": [
      "31626\n"
     ]
    }
   ],
   "source": [
    "l = list(l)\n",
    "print(sum(l))"
   ]
  },
  {
   "cell_type": "code",
   "execution_count": 12,
   "metadata": {},
   "outputs": [
    {
     "data": {
      "text/plain": [
       "28"
      ]
     },
     "execution_count": 12,
     "metadata": {},
     "output_type": "execute_result"
    }
   ],
   "source": [
    "d(28)"
   ]
  },
  {
   "cell_type": "code",
   "execution_count": null,
   "metadata": {},
   "outputs": [],
   "source": []
  }
 ],
 "metadata": {
  "kernelspec": {
   "display_name": "Python 3",
   "language": "python",
   "name": "python3"
  },
  "language_info": {
   "codemirror_mode": {
    "name": "ipython",
    "version": 3
   },
   "file_extension": ".py",
   "mimetype": "text/x-python",
   "name": "python",
   "nbconvert_exporter": "python",
   "pygments_lexer": "ipython3",
   "version": "3.8.5"
  }
 },
 "nbformat": 4,
 "nbformat_minor": 4
}
