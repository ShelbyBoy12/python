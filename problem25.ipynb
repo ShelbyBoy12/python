{
 "cells": [
  {
   "cell_type": "code",
   "execution_count": 2,
   "metadata": {},
   "outputs": [
    {
     "name": "stdout",
     "output_type": "stream",
     "text": [
      "4781\n"
     ]
    }
   ],
   "source": [
    "l = [1,1]\n",
    "i = 2\n",
    "def c(n) :\n",
    "    s = 0\n",
    "    for i in str(n) :\n",
    "        s += 1\n",
    "    return s\n",
    "while 1 :\n",
    "    a = l[i-1] + l[i-2]\n",
    "    if c(a) == 1000 : \n",
    "        break\n",
    "    else :\n",
    "        l.append(a)\n",
    "        i += 1\n",
    "print(i)"
   ]
  }
 ],
 "metadata": {
  "kernelspec": {
   "display_name": "Python 3",
   "language": "python",
   "name": "python3"
  },
  "language_info": {
   "codemirror_mode": {
    "name": "ipython",
    "version": 3
   },
   "file_extension": ".py",
   "mimetype": "text/x-python",
   "name": "python",
   "nbconvert_exporter": "python",
   "pygments_lexer": "ipython3",
   "version": "3.8.5"
  }
 },
 "nbformat": 4,
 "nbformat_minor": 4
}
